{
 "cells": [
  {
   "cell_type": "code",
   "execution_count": 2,
   "id": "6402e20c",
   "metadata": {},
   "outputs": [],
   "source": [
    "from login import Login\n",
    "from stockdata import StockData"
   ]
  },
  {
   "cell_type": "code",
   "execution_count": null,
   "id": "018a11b6",
   "metadata": {},
   "outputs": [],
   "source": [
    "\"\"\"         Login Zerodha            \"\"\"\n",
    "\n",
    "userid = None\n",
    "pwd = None\n",
    "\n",
    "zerodha = Login(user_id=userid, password=pwd)"
   ]
  },
  {
   "cell_type": "code",
   "execution_count": null,
   "id": "a6e38846",
   "metadata": {},
   "outputs": [],
   "source": []
  }
 ],
 "metadata": {
  "kernelspec": {
   "display_name": "Python 3 (ipykernel)",
   "language": "python",
   "name": "python3"
  },
  "language_info": {
   "codemirror_mode": {
    "name": "ipython",
    "version": 3
   },
   "file_extension": ".py",
   "mimetype": "text/x-python",
   "name": "python",
   "nbconvert_exporter": "python",
   "pygments_lexer": "ipython3",
   "version": "3.10.9"
  }
 },
 "nbformat": 4,
 "nbformat_minor": 5
}
